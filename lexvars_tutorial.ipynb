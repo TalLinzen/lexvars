{
 "cells": [
  {
   "cell_type": "markdown",
   "metadata": {},
   "source": [
    "# LexVars tutorial\n",
    "\n",
    "LexVars is a Python package for generating lexical predictors for psycholinguistic studies, with a focus on morphological and contextual variables. This tutorial showcases much of the functionality of the package; please read the individual functions' docstring for comprehensive documentation.\n",
    "\n",
    "## CELEX\n",
    "\n",
    "CELEX is a lexical database that provides rich morphological and syntactic information (Baayen & Piepenbrock, 1995). LexVars provides a convenient interface to access two CELEX databases (for English only): the lemma database, which collapses different inflected forms (e.g., *running* and *runs*), and the wordform database, which has a seperate entry for each form. Let's start by looking at the lemmas. A particular string, e.g. *wind*, is often mapped to multiple lemmas, which correspond to the word's possible parts of speech or meanings:"
   ]
  },
  {
   "cell_type": "code",
   "execution_count": 118,
   "metadata": {
    "collapsed": false
   },
   "outputs": [
    {
     "data": {
      "text/plain": [
       "[<CelexLemma 51690 \"wind\" (noun)>,\n",
       " <CelexLemma 51691 \"wind\" (noun)>,\n",
       " <CelexLemma 51692 \"wind\" (verb)>,\n",
       " <CelexLemma 51693 \"wind\" (verb)>,\n",
       " <CelexLemma 51694 \"wind\" (verb)>]"
      ]
     },
     "execution_count": 118,
     "metadata": {},
     "output_type": "execute_result"
    }
   ],
   "source": [
    "import lexvars.celex\n",
    "c = lexvars.celex.Celex(celex_path)\n",
    "wind = c.lemma_lookup('wind')\n",
    "wind"
   ]
  },
  {
   "cell_type": "markdown",
   "metadata": {},
   "source": [
    "To see a complex word's morphological decomposition:"
   ]
  },
  {
   "cell_type": "code",
   "execution_count": 119,
   "metadata": {
    "collapsed": false
   },
   "outputs": [
    {
     "data": {
      "text/plain": [
       "[<CelexMorphParse ['light', 'bulb']>]"
      ]
     },
     "execution_count": 119,
     "metadata": {},
     "output_type": "execute_result"
    }
   ],
   "source": [
    "lightbulb = c.lemma_lookup('lightbulb')\n",
    "lightbulb[0].Parses"
   ]
  },
  {
   "cell_type": "markdown",
   "metadata": {},
   "source": [
    "CELEX includes a wide range of annotations for each word. Let's list the first three (ordered alphabetically), and check out the description of one of them:"
   ]
  },
  {
   "cell_type": "code",
   "execution_count": 120,
   "metadata": {
    "collapsed": false
   },
   "outputs": [
    {
     "data": {
      "text/plain": [
       "['Attr_A', 'Attr_N', 'C_N']"
      ]
     },
     "execution_count": 120,
     "metadata": {},
     "output_type": "execute_result"
    }
   ],
   "source": [
    "dir(lightbulb[0])[:3]"
   ]
  },
  {
   "cell_type": "code",
   "execution_count": 121,
   "metadata": {
    "collapsed": false
   },
   "outputs": [
    {
     "name": "stdout",
     "output_type": "stream",
     "text": [
      "Is this lemma an adjective which in some contexts can only be used attributively? (e.g. \"sheer\" in \"sheer nonsense\"\n"
     ]
    }
   ],
   "source": [
    "lightbulb[0].help('Attr_A')"
   ]
  },
  {
   "cell_type": "markdown",
   "metadata": {},
   "source": [
    "Clearly, *lightbulb* is not an adjective that can only be used attributively:"
   ]
  },
  {
   "cell_type": "code",
   "execution_count": 122,
   "metadata": {
    "collapsed": false
   },
   "outputs": [
    {
     "data": {
      "text/plain": [
       "False"
      ]
     },
     "execution_count": 122,
     "metadata": {},
     "output_type": "execute_result"
    }
   ],
   "source": [
    "lightbulb[0].Attr_A"
   ]
  },
  {
   "cell_type": "markdown",
   "metadata": {},
   "source": [
    "In contrast with lemmas, wordforms are annotated for their inflectional status:"
   ]
  },
  {
   "cell_type": "code",
   "execution_count": 123,
   "metadata": {
    "collapsed": false
   },
   "outputs": [
    {
     "data": {
      "text/plain": [
       "['plural']"
      ]
     },
     "execution_count": 123,
     "metadata": {},
     "output_type": "execute_result"
    }
   ],
   "source": [
    "windows = c.wordform_lookup('windows')\n",
    "windows[0].FlectType"
   ]
  },
  {
   "cell_type": "markdown",
   "metadata": {},
   "source": [
    "CELEX includes the frequency of each wordform in the COBUILD corpus:"
   ]
  },
  {
   "cell_type": "code",
   "execution_count": 124,
   "metadata": {
    "collapsed": false
   },
   "outputs": [
    {
     "data": {
      "text/plain": [
       "1212"
      ]
     },
     "execution_count": 124,
     "metadata": {},
     "output_type": "execute_result"
    }
   ],
   "source": [
    "windows[0].Cob"
   ]
  },
  {
   "cell_type": "markdown",
   "metadata": {},
   "source": [
    "Let's list all of the wordforms that are associated with the verb lemma for *build*. The same string often has multiple inflectional analyses, and therefore multiple wordforms; for example, *built* can be a past form or a participle."
   ]
  },
  {
   "cell_type": "code",
   "execution_count": 125,
   "metadata": {
    "collapsed": false
   },
   "outputs": [
    {
     "data": {
      "text/plain": [
       "[<CelexWordform 10550 \"build\">,\n",
       " <CelexWordform 10555 \"building\">,\n",
       " <CelexWordform 10570 \"builds\">,\n",
       " <CelexWordform 10581 \"built\">,\n",
       " <CelexWordform 102411 \"build\">,\n",
       " <CelexWordform 102418 \"built\">,\n",
       " <CelexWordform 119690 \"build\">,\n",
       " <CelexWordform 119697 \"built\">,\n",
       " <CelexWordform 136600 \"build\">,\n",
       " <CelexWordform 136607 \"built\">,\n",
       " <CelexWordform 152608 \"built\">]"
      ]
     },
     "execution_count": 125,
     "metadata": {},
     "output_type": "execute_result"
    }
   ],
   "source": [
    "wfs = c.lemma_to_wordforms(c.lemma_lookup('build')[1])\n",
    "wfs"
   ]
  },
  {
   "cell_type": "code",
   "execution_count": 126,
   "metadata": {
    "collapsed": false
   },
   "outputs": [
    {
     "data": {
      "text/plain": [
       "['participle', 'past_tense']"
      ]
     },
     "execution_count": 126,
     "metadata": {},
     "output_type": "execute_result"
    }
   ],
   "source": [
    "wfs[-1].FlectType"
   ]
  },
  {
   "cell_type": "code",
   "execution_count": 127,
   "metadata": {
    "collapsed": false
   },
   "outputs": [
    {
     "data": {
      "text/plain": [
       "['past_tense', 'plural']"
      ]
     },
     "execution_count": 127,
     "metadata": {},
     "output_type": "execute_result"
    }
   ],
   "source": [
    "wfs[-2].FlectType"
   ]
  },
  {
   "cell_type": "markdown",
   "metadata": {},
   "source": [
    "##Morphological families\n",
    "\n",
    "The derivational family of a lemma consists of all of the words that include have that lemma as a morpheme. There are multiple ways to define this family, and each are useful for a different task. Adding the flag `right=True` accesses the word's right derivational family, which only includes words that have the lemma as their leftmost morpheme. By default, multiword lemmas such as *think up* are not included in the morphological family, but can be added to it using the flag `multiword=True`."
   ]
  },
  {
   "cell_type": "code",
   "execution_count": 128,
   "metadata": {
    "collapsed": false
   },
   "outputs": [
    {
     "data": {
      "text/plain": [
       "[<CelexLemma 13412 \"doublethink\" (noun)>,\n",
       " <CelexLemma 38606 \"rethink\" (verb)>,\n",
       " <CelexLemma 47061 \"think\" (noun)>,\n",
       " <CelexLemma 47062 \"think\" (verb)>,\n",
       " <CelexLemma 47063 \"thinkable\" (adjective)>,\n",
       " <CelexLemma 47064 \"thinker\" (noun)>,\n",
       " <CelexLemma 3805 \"bethink\" (verb)>]"
      ]
     },
     "execution_count": 128,
     "metadata": {},
     "output_type": "execute_result"
    }
   ],
   "source": [
    "import lexvars.lexvars\n",
    "lv = lexvars.lexvars.LexVars(c)\n",
    "think_family = lv.derivational_family('think')\n",
    "think_family"
   ]
  },
  {
   "cell_type": "code",
   "execution_count": 129,
   "metadata": {
    "collapsed": false
   },
   "outputs": [
    {
     "data": {
      "text/plain": [
       "[<CelexLemma 47064 \"thinker\" (noun)>,\n",
       " <CelexLemma 47061 \"think\" (noun)>,\n",
       " <CelexLemma 47062 \"think\" (verb)>,\n",
       " <CelexLemma 47063 \"thinkable\" (adjective)>]"
      ]
     },
     "execution_count": 129,
     "metadata": {},
     "output_type": "execute_result"
    }
   ],
   "source": [
    "lv.derivational_family('think', right=True)"
   ]
  },
  {
   "cell_type": "code",
   "execution_count": 130,
   "metadata": {
    "collapsed": false
   },
   "outputs": [
    {
     "data": {
      "text/plain": [
       "[<CelexLemma 47072 \"think up\" (verb)>,\n",
       " <CelexLemma 47061 \"think\" (noun)>,\n",
       " <CelexLemma 47062 \"think\" (verb)>,\n",
       " <CelexLemma 47063 \"thinkable\" (adjective)>,\n",
       " <CelexLemma 47064 \"thinker\" (noun)>,\n",
       " <CelexLemma 47067 \"think of\" (verb)>,\n",
       " <CelexLemma 47068 \"think out\" (verb)>,\n",
       " <CelexLemma 47069 \"think over\" (verb)>,\n",
       " <CelexLemma 47070 \"think-tank\" (noun)>,\n",
       " <CelexLemma 47071 \"think through\" (verb)>]"
      ]
     },
     "execution_count": 130,
     "metadata": {},
     "output_type": "execute_result"
    }
   ],
   "source": [
    "lv.derivational_family('think', right=True, include_multiword=True)"
   ]
  },
  {
   "cell_type": "markdown",
   "metadata": {},
   "source": [
    "We can now extract the lemma frequencies of each of the lemmas in the word's family, and calculate the entropy of the probability distribution defined by those frequencies (Moscoso del Prado Martín et al., 2004). The lemma *think* is much more frequent than all of the lemmas derived from it; its derivational entropy is therefore fairly low:"
   ]
  },
  {
   "cell_type": "code",
   "execution_count": 131,
   "metadata": {
    "collapsed": false
   },
   "outputs": [
    {
     "name": "stdout",
     "output_type": "stream",
     "text": [
      "Frequency in the COBUILD corpus (17.9m words)\n"
     ]
    }
   ],
   "source": [
    "think_family[0].help('Cob')"
   ]
  },
  {
   "cell_type": "code",
   "execution_count": 132,
   "metadata": {
    "collapsed": false
   },
   "outputs": [
    {
     "data": {
      "text/plain": [
       "[2, 32, 0, 35874, 2, 136, 5]"
      ]
     },
     "execution_count": 132,
     "metadata": {},
     "output_type": "execute_result"
    }
   ],
   "source": [
    "[x.Cob for x in think_family]"
   ]
  },
  {
   "cell_type": "code",
   "execution_count": 133,
   "metadata": {
    "collapsed": false
   },
   "outputs": [
    {
     "data": {
      "text/plain": [
       "0.17897018795918829"
      ]
     },
     "execution_count": 133,
     "metadata": {},
     "output_type": "execute_result"
    }
   ],
   "source": [
    "lv.derivational_entropy('think')"
   ]
  },
  {
   "cell_type": "markdown",
   "metadata": {},
   "source": [
    "Finally, we can calculate the entropy of the distribution of inflected forms of *think*, collapsing over all of the lemmas for *think*. There are multiple possible ways to group together inflected forms of the lemma for the purposes of calculating entropy; see the function's documentation for details."
   ]
  },
  {
   "cell_type": "code",
   "execution_count": null,
   "metadata": {
    "collapsed": false
   },
   "outputs": [
    {
     "data": {
      "text/plain": [
       "1.5716274042735443"
      ]
     },
     "execution_count": 134,
     "metadata": {},
     "output_type": "execute_result"
    }
   ],
   "source": [
    "lv.inflectional_entropy('think')"
   ]
  },
  {
   "cell_type": "markdown",
   "metadata": {},
   "source": [
    "##Verb subcategorization family\n",
    "By analogy to the derivational family of a stem, we can define a verb's subcategorization family as the set of frames that a verb can occur in (Linzen et al., 2013). LexVars provides an interface to VALEX (Korhonen et al., 2006). Let's load their lexicon 5 and examine three of the frames for *squash*:"
   ]
  },
  {
   "cell_type": "code",
   "execution_count": null,
   "metadata": {
    "collapsed": false
   },
   "outputs": [],
   "source": [
    "import lexvars.valex\n",
    "vlx = lexvars.valex.Valex(valex_lex5_path)\n",
    "vlx.load_all_verbs(progress=False)"
   ]
  },
  {
   "cell_type": "code",
   "execution_count": null,
   "metadata": {
    "collapsed": false
   },
   "outputs": [
    {
     "data": {
      "text/plain": [
       "[{'class': '24',\n",
       "  'classfreq': '5281',\n",
       "  'frame': 'NP',\n",
       "  'freqcnt': 484,\n",
       "  'relfreq': 0.397531},\n",
       " {'class': '49',\n",
       "  'classfreq': '2010',\n",
       "  'frame': 'NP_PP',\n",
       "  'freqcnt': 181,\n",
       "  'relfreq': 0.210909},\n",
       " {'class': '22',\n",
       "  'classfreq': '2985',\n",
       "  'frame': 'NONE',\n",
       "  'freqcnt': 131,\n",
       "  'relfreq': 0.103202}]"
      ]
     },
     "execution_count": 136,
     "metadata": {},
     "output_type": "execute_result"
    }
   ],
   "source": [
    "vlx.verbs['squash'][:3]"
   ]
  },
  {
   "cell_type": "markdown",
   "metadata": {},
   "source": [
    "We can also calcualte the Kullback-Leibler divergence between individual verbs' subcategorization distribution and the average subcategorization distribution in the language (i.e., averaged across all verbs, weighted by the verbs' frequency; see again Linzen et al., 2013)."
   ]
  },
  {
   "cell_type": "code",
   "execution_count": null,
   "metadata": {
    "collapsed": false
   },
   "outputs": [
    {
     "data": {
      "text/plain": [
       "0.5697249078143103"
      ]
     },
     "execution_count": 137,
     "metadata": {},
     "output_type": "execute_result"
    }
   ],
   "source": [
    "vre = ValexRelativeEntropy(c, vlx)\n",
    "vre.build_reference_distribution()\n",
    "vre.calculate_relative_entropies()\n",
    "vre.relative_entropies['squash']"
   ]
  },
  {
   "cell_type": "markdown",
   "metadata": {},
   "source": [
    "# References\n",
    "\n",
    "Baayen, R. H., & Piepenbrock, R. (1995). The CELEX lexical database (Release 2) [CD-ROM].\n",
    "Philadelphia, PA: Linguistic Data Consortium, University of Pennsylvania [Distributor].\n",
    "\n",
    "Korhonen, A., Krymolowski, Y., & Briscoe, T. (2006). [A large subcategorization lexicon for\n",
    "natural language processing applications](http://hnk.ffzg.hr/bibl/lrec2006/pdf/558_pdf.pdf). In Proceedings of the 5th international conference on language resources and evaluation. Genova, Italy.\n",
    "\n",
    "Linzen, T. Marantz, A., & Pylkkanen, L. [Syntactic context effects in visual word recognition: An MEG study](http://tallinzen.net/media/papers/linzen_marantz_pylkkanen_2013_mental_lexicon.pdf). The Mental Lexicon 8(2), 117-139.\n",
    "\n",
    "Moscoso del Prado Martín, F. M., Kostić, A., & Baayen, R. H. (2004). [Putting the bits together: An information theoretical perspective on morphological processing](http://www.sfs.uni-tuebingen.de/~hbaayen/publications/MoscosoKosticBaayenCognition2004.pdf). Cognition, 94(1), 1-18."
   ]
  }
 ],
 "metadata": {
  "kernelspec": {
   "display_name": "Python 2",
   "language": "python",
   "name": "python2"
  },
  "language_info": {
   "codemirror_mode": {
    "name": "ipython",
    "version": 2
   },
   "file_extension": ".py",
   "mimetype": "text/x-python",
   "name": "python",
   "nbconvert_exporter": "python",
   "pygments_lexer": "ipython2",
   "version": "2.7.6"
  }
 },
 "nbformat": 4,
 "nbformat_minor": 0
}
